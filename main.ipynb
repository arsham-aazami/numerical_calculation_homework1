{
 "cells": [
  {
   "cell_type": "code",
   "execution_count": 80,
   "metadata": {},
   "outputs": [],
   "source": [
    "import math\n",
    "from sympy import symbols, lambdify\n",
    "from scipy.optimize import newton\n",
    "\n",
    "\n",
    "def f(x):\n",
    "    return math.e **(-x**2) - 2*x"
   ]
  },
  {
   "cell_type": "code",
   "execution_count": 81,
   "metadata": {},
   "outputs": [
    {
     "name": "stdout",
     "output_type": "stream",
     "text": [
      "[-x*(1/2 - x/2)*(2/3 - x/3)*(3/4 - x/4), (1 - x)*(1 - x/2)*(1 - x/3)*(x + 1), x*(3/2 - x/2)*(2 - x)*(x/2 + 1/2), x*(3 - x)*(x/3 + 1/3)*(x - 1)/2, x*(x/4 + 1/4)*(x/2 - 1/2)*(x - 2)/3]\n"
     ]
    }
   ],
   "source": [
    "function_input = [-1, 0, 1, 2, 3,]\n",
    "function_output = [ f(x) for x in function_input]\n",
    "\n",
    "num_of_lagrange_coefficinet = len(function_input)\n",
    "\n",
    "x = symbols(\"x\")\n",
    "lagrange_coeffients = []\n",
    "for i in range(num_of_lagrange_coefficinet):\n",
    "    #creating a list which decludes function_input[i] that is a number\n",
    "    new_list = [n for n in function_input  if n != function_input[i]]\n",
    "    lagrange_coeffient = 1\n",
    "    for j in new_list:\n",
    "        lagrange_coeffient *= (x - j)/(function_input[i]- j)\n",
    "    lagrange_coeffients.append(lagrange_coeffient)\n",
    "  \n",
    "print(lagrange_coeffients)"
   ]
  },
  {
   "cell_type": "code",
   "execution_count": 82,
   "metadata": {},
   "outputs": [
    {
     "name": "stdout",
     "output_type": "stream",
     "text": [
      "-2.36787944117144*x*(1/2 - x/2)*(2/3 - x/3)*(3/4 - x/4) - 1.63212055882856*x*(3/2 - x/2)*(2 - x)*(x/2 + 1/2) - 1.99084218055563*x*(3 - x)*(x/3 + 1/3)*(x - 1) - 1.99995886339864*x*(x/4 + 1/4)*(x/2 - 1/2)*(x - 2) + 1.0*(1 - x)*(1 - x/2)*(1 - x/3)*(x + 1)\n",
      "Root: 0.3920149325128998\n"
     ]
    }
   ],
   "source": [
    "polynomial = 0\n",
    "for k in range(len(lagrange_coeffients)):\n",
    "    polynomial += function_output[k]*lagrange_coeffients[k]\n",
    "print(polynomial)\n",
    "\n",
    "\n",
    "# Example usage with Newton's method\n",
    "function = lambdify(x, polynomial)\n",
    "root = newton(function, x0=2)\n",
    "print(\"Root:\", root)"
   ]
  }
 ],
 "metadata": {
  "kernelspec": {
   "display_name": "Python 3",
   "language": "python",
   "name": "python3"
  },
  "language_info": {
   "codemirror_mode": {
    "name": "ipython",
    "version": 3
   },
   "file_extension": ".py",
   "mimetype": "text/x-python",
   "name": "python",
   "nbconvert_exporter": "python",
   "pygments_lexer": "ipython3",
   "version": "3.10.5"
  }
 },
 "nbformat": 4,
 "nbformat_minor": 2
}
