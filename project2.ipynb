{
 "cells": [
  {
   "cell_type": "code",
   "execution_count": null,
   "metadata": {},
   "outputs": [],
   "source": [
    "import numpy as np\n",
    "\n",
    "\n",
    "h = 0.5\n",
    "x_values = [0.1 + i * h for i in range(5)]\n",
    "\n",
    "def exponential_function(x):\n",
    "    return np.exp(x)\n",
    "\n",
    "y_values = [exponential_function(x) for x in x_values]\n",
    "\n",
    "def numerical_derivative(f, x, h):\n",
    "    return (f(x + h) - f(x)) / h\n",
    "\n",
    "derivatives = [numerical_derivative(exponential_function, x, h) for x in x_values]\n",
    "\n",
    "for i in range(5):\n",
    "    print(f\"نقطه x_{i} = {x_values[i]:.2f}:\\tتابع نمایی: {y_values[i]:.4f}\\tتقریب مشتق: {derivatives[i]:.4f}\")\n"
   ]
  }
 ],
 "metadata": {
  "language_info": {
   "name": "python"
  }
 },
 "nbformat": 4,
 "nbformat_minor": 2
}
